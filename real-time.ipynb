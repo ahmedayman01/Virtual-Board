{
 "cells": [
  {
   "cell_type": "code",
   "execution_count": 1,
   "id": "aec405d3",
   "metadata": {},
   "outputs": [],
   "source": [
    "import cv2\n",
    "import torch\n",
    "import os\n",
    "import numpy as np"
   ]
  },
  {
   "cell_type": "code",
   "execution_count": 6,
   "id": "cc84ddc7",
   "metadata": {},
   "outputs": [
    {
     "name": "stderr",
     "output_type": "stream",
     "text": [
      "Downloading: \"https://github.com/ultralytics/yolov5/archive/master.zip\" to C:\\Users\\Ahmed Ayman/.cache\\torch\\hub\\master.zip\n",
      "YOLOv5  2022-1-23 torch 1.10.0 CUDA:0 (NVIDIA GeForce GTX 1050, 4096MiB)\n",
      "\n",
      "Fusing layers... \n",
      "Model Summary: 280 layers, 12308200 parameters, 0 gradients, 16.2 GFLOPs\n",
      "Adding AutoShape... \n"
     ]
    }
   ],
   "source": [
    "finger_model = torch.hub.load('ultralytics/yolov5', 'custom','./best.pt')\n",
    "finger_model.conf = 0.5"
   ]
  },
  {
   "cell_type": "code",
   "execution_count": 7,
   "id": "3419c7b4",
   "metadata": {},
   "outputs": [],
   "source": [
    "def finger_detector(img):\n",
    "    h, w, c = img.shape\n",
    "    results = finger_model(img, size=h)\n",
    "    detections = results.xyxy[0].cpu().numpy()\n",
    "    return detections"
   ]
  },
  {
   "cell_type": "code",
   "execution_count": 8,
   "id": "f279a427",
   "metadata": {},
   "outputs": [],
   "source": [
    "folderPath = \"design/font\"\n",
    "myList = os.listdir(folderPath)\n",
    "fontList = []\n",
    "for imPath in myList:\n",
    "    image = cv2.imread(f'{folderPath}/{imPath}')\n",
    "    image = cv2.resize(image, (60,400), interpolation = cv2.INTER_AREA)\n",
    "    fontList.append(image)\n",
    "    \n",
    "font= fontList[3]"
   ]
  },
  {
   "cell_type": "code",
   "execution_count": 9,
   "id": "6ba19fdf",
   "metadata": {},
   "outputs": [],
   "source": [
    "folderPath = \"design/left\"\n",
    "myList = os.listdir(folderPath)\n",
    "overlayList = []\n",
    "for imPath in myList:\n",
    "    image = cv2.imread(f'{folderPath}/{imPath}')\n",
    "    image = cv2.resize(image, (75,720), interpolation = cv2.INTER_AREA)\n",
    "    overlayList.append(image)\n",
    "    \n",
    "left = overlayList[0]"
   ]
  },
  {
   "cell_type": "code",
   "execution_count": 10,
   "id": "7d88663f",
   "metadata": {},
   "outputs": [],
   "source": [
    "folderPath = \"design/top\"\n",
    "myList = os.listdir(folderPath)\n",
    "colorList = []\n",
    "for imPath in myList:\n",
    "    image = cv2.imread(f'{folderPath}/{imPath}')\n",
    "    image = cv2.resize(image, (600,60), interpolation = cv2.INTER_AREA)\n",
    "    colorList.append(image)\n",
    "    \n",
    "top = colorList[0]"
   ]
  },
  {
   "cell_type": "code",
   "execution_count": 11,
   "id": "4e762b4f",
   "metadata": {},
   "outputs": [],
   "source": [
    "drawColor = (255, 0, 255)\n",
    "cap = cv2.VideoCapture(0)\n",
    "\n",
    "cap.set(3, 1280)\n",
    "cap.set(4, 720)\n",
    "\n",
    "brushThickness = 5\n",
    "eraserThickness = 100\n",
    "xp, yp = 0, 0\n",
    "imgCanvas = np.zeros((720, 1280, 3), np.uint8)\n",
    "\n",
    "while True:\n",
    "    success, img = cap.read()\n",
    "    img=cv2.flip(img, 1)\n",
    "    \n",
    "    detections = finger_detector(img)\n",
    "\n",
    "    \n",
    "    # If Drawing Mode - Index finger is up\n",
    "    if len(detections) == 1 :\n",
    "        x1, y1 = round(detections[0][0] +20), round(detections[0][1] +20)\n",
    "        \n",
    "        cv2.circle(img, (x1, y1), 15, drawColor, cv2.FILLED)\n",
    "        if xp == 0 and yp == 0:\n",
    "            xp, yp = x1, y1\n",
    " \n",
    "        cv2.line(img, (xp, yp), (x1, y1), drawColor, brushThickness)\n",
    "        cv2.line(imgCanvas, (xp, yp), (x1, y1), drawColor, brushThickness)\n",
    " \n",
    "        xp, yp = x1, y1\n",
    "    \n",
    "    \n",
    "\n",
    "    if len(detections) == 2 :\n",
    "        x1, y1 = round(detections[0][0] +20), round(detections[0][1] +20)\n",
    "        x2, y2 = round(detections[1][0] +20), round(detections[1][1] +20)\n",
    "        xp, yp = x1, y1\n",
    "                    #change color \n",
    "        \n",
    "        if y1 < 60:\n",
    "            if 340 < x1 < 590:\n",
    "                top = colorList[0]\n",
    "                drawColor = (255, 0, 255)\n",
    "            elif 590 < x1 < 740:\n",
    "                top = colorList[1]\n",
    "                drawColor = (255, 0, 0)\n",
    "                \n",
    "            elif 740 < x1 < 900 :\n",
    "                top = colorList[2]\n",
    "                drawColor = (0, 255, 0)\n",
    "                \n",
    "                    #change font                \n",
    "        if  1180 < x1 < 1280 or 1180 < x2 < 1280:\n",
    "            \n",
    "            if  160 < y1 < 260 or 160 < y2 < 260:\n",
    "                font= fontList[3]\n",
    "                brushThickness = 10\n",
    "\n",
    "            elif 260 < y1 < 360 or 260 < y2 < 360:\n",
    "                font= fontList[2]\n",
    "                brushThickness = 25\n",
    "\n",
    "            elif 360 < y1 < 460 or 360 < y2 < 460:\n",
    "                font= fontList[1]\n",
    "                brushThickness = 50\n",
    "\n",
    "            elif 460 < y1 < 560 or 460 < y2 < 560:\n",
    "                font= fontList[0]\n",
    "                brushThickness = 100\n",
    "                \n",
    "                \n",
    "        \n",
    "    # If Erasing Mode\n",
    "    if 5 > len(detections) >= 3 :\n",
    "        x1, y1 = round(detections[0][0] +20), round(detections[0][1] +20)\n",
    "        x2, y2 = round(detections[1][0] +20), round(detections[1][1] +20)\n",
    "        cv2.rectangle(img, (x1, y1 - 25), (x2, y2 + 25), (0, 0, 0), cv2.FILLED)\n",
    "        cv2.line(img, (xp, yp), (x1, y1), (0, 0, 0), eraserThickness)\n",
    "        cv2.line(imgCanvas, (xp, yp), (x1, y1), (0, 0, 0), eraserThickness)\n",
    "        xp, yp = x1, y1\n",
    "        \n",
    "    if len(detections) == 5 :\n",
    "        imgCanvas = np.zeros((720, 1280, 3), np.uint8)\n",
    "\n",
    "    \n",
    "    \n",
    "    imgGray = cv2.cvtColor(imgCanvas, cv2.COLOR_BGR2GRAY)\n",
    "    _, imgInv = cv2.threshold(imgGray, 50, 255, cv2.THRESH_BINARY_INV)\n",
    "    imgInv = cv2.cvtColor(imgInv,cv2.COLOR_GRAY2BGR)\n",
    "    img = cv2.bitwise_and(img,imgInv)\n",
    "    img = cv2.bitwise_or(img,imgCanvas)\n",
    "    \n",
    "    \n",
    "    img[0:720, 0:75] = left\n",
    "    \n",
    "    img[160:560 , 1220:1280]=font\n",
    "    \n",
    "    img[0:60 , 340:940]=top\n",
    "    \n",
    "    cv2.imshow(\"Image\", img)\n",
    "#     cv2.imshow(\"Canvas\", imgCanvas)\n",
    "    #     cv2.imshow(\"Inv\", imgInv)\n",
    "    \n",
    "    cv2.waitKey(1)\n",
    "    \n",
    "    if cv2.waitKey(1) & 0xFF == ord('q'):\n",
    "                break\n",
    "            \n",
    "            \n",
    "cap.release()\n",
    "cv2.destroyAllWindows()"
   ]
  },
  {
   "cell_type": "code",
   "execution_count": 12,
   "id": "f50586a8",
   "metadata": {},
   "outputs": [
    {
     "name": "stdout",
     "output_type": "stream",
     "text": [
      "\n",
      "Note: you may need to restart the kernel to use updated packages.\n"
     ]
    }
   ],
   "source": [
    "conda list -e > requirements.txt"
   ]
  },
  {
   "cell_type": "code",
   "execution_count": null,
   "id": "1718b240",
   "metadata": {},
   "outputs": [],
   "source": []
  }
 ],
 "metadata": {
  "kernelspec": {
   "display_name": "Python 3 (ipykernel)",
   "language": "python",
   "name": "python3"
  },
  "language_info": {
   "codemirror_mode": {
    "name": "ipython",
    "version": 3
   },
   "file_extension": ".py",
   "mimetype": "text/x-python",
   "name": "python",
   "nbconvert_exporter": "python",
   "pygments_lexer": "ipython3",
   "version": "3.9.7"
  }
 },
 "nbformat": 4,
 "nbformat_minor": 5
}
